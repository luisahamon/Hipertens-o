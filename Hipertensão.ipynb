{
  "nbformat": 4,
  "nbformat_minor": 0,
  "metadata": {
    "colab": {
      "provenance": [],
      "authorship_tag": "ABX9TyMbJNhWFhI7fE9Xi7I0yTGb",
      "include_colab_link": true
    },
    "kernelspec": {
      "name": "python3",
      "display_name": "Python 3"
    },
    "language_info": {
      "name": "python"
    }
  },
  "cells": [
    {
      "cell_type": "markdown",
      "metadata": {
        "id": "view-in-github",
        "colab_type": "text"
      },
      "source": [
        "<a href=\"https://colab.research.google.com/github/luisahamon/Hipertens-o/blob/main/Hipertens%C3%A3o.ipynb\" target=\"_parent\"><img src=\"https://colab.research.google.com/assets/colab-badge.svg\" alt=\"Open In Colab\"/></a>"
      ]
    },
    {
      "cell_type": "code",
      "execution_count": 2,
      "metadata": {
        "colab": {
          "base_uri": "https://localhost:8080/",
          "height": 424
        },
        "id": "2wztrb_j2-Nk",
        "outputId": "7f285067-02f9-4597-ba07-cb383fa07540"
      },
      "outputs": [
        {
          "output_type": "execute_result",
          "data": {
            "text/plain": [
              "        age  sex  cp  trestbps  chol  fbs  restecg  thalach  exang  oldpeak  \\\n",
              "0      57.0  1.0   3       145   233    1        0      150      0      2.3   \n",
              "1      64.0  0.0   2       130   250    0        1      187      0      3.5   \n",
              "2      52.0  1.0   1       130   204    0        0      172      0      1.4   \n",
              "3      56.0  0.0   1       120   236    0        1      178      0      0.8   \n",
              "4      66.0  0.0   0       120   354    0        1      163      1      0.6   \n",
              "...     ...  ...  ..       ...   ...  ...      ...      ...    ...      ...   \n",
              "26078  72.0  0.0   0       138   294    1        1      106      0      1.9   \n",
              "26079  60.0  1.0   0       144   200    0        0      126      1      0.9   \n",
              "26080  68.0  1.0   0       100   234    0        1      156      0      0.1   \n",
              "26081  67.0  1.0   1       154   232    0        0      164      0      0.0   \n",
              "26082  67.0  0.0   1       130   236    0        0      174      0      0.0   \n",
              "\n",
              "       slope  ca  thal  target  \n",
              "0          0   0     1       1  \n",
              "1          0   0     2       1  \n",
              "2          2   0     2       1  \n",
              "3          2   0     2       1  \n",
              "4          2   0     2       1  \n",
              "...      ...  ..   ...     ...  \n",
              "26078      1   3     2       0  \n",
              "26079      1   0     3       0  \n",
              "26080      2   1     3       0  \n",
              "26081      2   1     2       0  \n",
              "26082      1   1     2       0  \n",
              "\n",
              "[26083 rows x 14 columns]"
            ],
            "text/html": [
              "\n",
              "  <div id=\"df-ab4aa2e4-b282-474e-b362-acb23fb38bcc\">\n",
              "    <div class=\"colab-df-container\">\n",
              "      <div>\n",
              "<style scoped>\n",
              "    .dataframe tbody tr th:only-of-type {\n",
              "        vertical-align: middle;\n",
              "    }\n",
              "\n",
              "    .dataframe tbody tr th {\n",
              "        vertical-align: top;\n",
              "    }\n",
              "\n",
              "    .dataframe thead th {\n",
              "        text-align: right;\n",
              "    }\n",
              "</style>\n",
              "<table border=\"1\" class=\"dataframe\">\n",
              "  <thead>\n",
              "    <tr style=\"text-align: right;\">\n",
              "      <th></th>\n",
              "      <th>age</th>\n",
              "      <th>sex</th>\n",
              "      <th>cp</th>\n",
              "      <th>trestbps</th>\n",
              "      <th>chol</th>\n",
              "      <th>fbs</th>\n",
              "      <th>restecg</th>\n",
              "      <th>thalach</th>\n",
              "      <th>exang</th>\n",
              "      <th>oldpeak</th>\n",
              "      <th>slope</th>\n",
              "      <th>ca</th>\n",
              "      <th>thal</th>\n",
              "      <th>target</th>\n",
              "    </tr>\n",
              "  </thead>\n",
              "  <tbody>\n",
              "    <tr>\n",
              "      <th>0</th>\n",
              "      <td>57.0</td>\n",
              "      <td>1.0</td>\n",
              "      <td>3</td>\n",
              "      <td>145</td>\n",
              "      <td>233</td>\n",
              "      <td>1</td>\n",
              "      <td>0</td>\n",
              "      <td>150</td>\n",
              "      <td>0</td>\n",
              "      <td>2.3</td>\n",
              "      <td>0</td>\n",
              "      <td>0</td>\n",
              "      <td>1</td>\n",
              "      <td>1</td>\n",
              "    </tr>\n",
              "    <tr>\n",
              "      <th>1</th>\n",
              "      <td>64.0</td>\n",
              "      <td>0.0</td>\n",
              "      <td>2</td>\n",
              "      <td>130</td>\n",
              "      <td>250</td>\n",
              "      <td>0</td>\n",
              "      <td>1</td>\n",
              "      <td>187</td>\n",
              "      <td>0</td>\n",
              "      <td>3.5</td>\n",
              "      <td>0</td>\n",
              "      <td>0</td>\n",
              "      <td>2</td>\n",
              "      <td>1</td>\n",
              "    </tr>\n",
              "    <tr>\n",
              "      <th>2</th>\n",
              "      <td>52.0</td>\n",
              "      <td>1.0</td>\n",
              "      <td>1</td>\n",
              "      <td>130</td>\n",
              "      <td>204</td>\n",
              "      <td>0</td>\n",
              "      <td>0</td>\n",
              "      <td>172</td>\n",
              "      <td>0</td>\n",
              "      <td>1.4</td>\n",
              "      <td>2</td>\n",
              "      <td>0</td>\n",
              "      <td>2</td>\n",
              "      <td>1</td>\n",
              "    </tr>\n",
              "    <tr>\n",
              "      <th>3</th>\n",
              "      <td>56.0</td>\n",
              "      <td>0.0</td>\n",
              "      <td>1</td>\n",
              "      <td>120</td>\n",
              "      <td>236</td>\n",
              "      <td>0</td>\n",
              "      <td>1</td>\n",
              "      <td>178</td>\n",
              "      <td>0</td>\n",
              "      <td>0.8</td>\n",
              "      <td>2</td>\n",
              "      <td>0</td>\n",
              "      <td>2</td>\n",
              "      <td>1</td>\n",
              "    </tr>\n",
              "    <tr>\n",
              "      <th>4</th>\n",
              "      <td>66.0</td>\n",
              "      <td>0.0</td>\n",
              "      <td>0</td>\n",
              "      <td>120</td>\n",
              "      <td>354</td>\n",
              "      <td>0</td>\n",
              "      <td>1</td>\n",
              "      <td>163</td>\n",
              "      <td>1</td>\n",
              "      <td>0.6</td>\n",
              "      <td>2</td>\n",
              "      <td>0</td>\n",
              "      <td>2</td>\n",
              "      <td>1</td>\n",
              "    </tr>\n",
              "    <tr>\n",
              "      <th>...</th>\n",
              "      <td>...</td>\n",
              "      <td>...</td>\n",
              "      <td>...</td>\n",
              "      <td>...</td>\n",
              "      <td>...</td>\n",
              "      <td>...</td>\n",
              "      <td>...</td>\n",
              "      <td>...</td>\n",
              "      <td>...</td>\n",
              "      <td>...</td>\n",
              "      <td>...</td>\n",
              "      <td>...</td>\n",
              "      <td>...</td>\n",
              "      <td>...</td>\n",
              "    </tr>\n",
              "    <tr>\n",
              "      <th>26078</th>\n",
              "      <td>72.0</td>\n",
              "      <td>0.0</td>\n",
              "      <td>0</td>\n",
              "      <td>138</td>\n",
              "      <td>294</td>\n",
              "      <td>1</td>\n",
              "      <td>1</td>\n",
              "      <td>106</td>\n",
              "      <td>0</td>\n",
              "      <td>1.9</td>\n",
              "      <td>1</td>\n",
              "      <td>3</td>\n",
              "      <td>2</td>\n",
              "      <td>0</td>\n",
              "    </tr>\n",
              "    <tr>\n",
              "      <th>26079</th>\n",
              "      <td>60.0</td>\n",
              "      <td>1.0</td>\n",
              "      <td>0</td>\n",
              "      <td>144</td>\n",
              "      <td>200</td>\n",
              "      <td>0</td>\n",
              "      <td>0</td>\n",
              "      <td>126</td>\n",
              "      <td>1</td>\n",
              "      <td>0.9</td>\n",
              "      <td>1</td>\n",
              "      <td>0</td>\n",
              "      <td>3</td>\n",
              "      <td>0</td>\n",
              "    </tr>\n",
              "    <tr>\n",
              "      <th>26080</th>\n",
              "      <td>68.0</td>\n",
              "      <td>1.0</td>\n",
              "      <td>0</td>\n",
              "      <td>100</td>\n",
              "      <td>234</td>\n",
              "      <td>0</td>\n",
              "      <td>1</td>\n",
              "      <td>156</td>\n",
              "      <td>0</td>\n",
              "      <td>0.1</td>\n",
              "      <td>2</td>\n",
              "      <td>1</td>\n",
              "      <td>3</td>\n",
              "      <td>0</td>\n",
              "    </tr>\n",
              "    <tr>\n",
              "      <th>26081</th>\n",
              "      <td>67.0</td>\n",
              "      <td>1.0</td>\n",
              "      <td>1</td>\n",
              "      <td>154</td>\n",
              "      <td>232</td>\n",
              "      <td>0</td>\n",
              "      <td>0</td>\n",
              "      <td>164</td>\n",
              "      <td>0</td>\n",
              "      <td>0.0</td>\n",
              "      <td>2</td>\n",
              "      <td>1</td>\n",
              "      <td>2</td>\n",
              "      <td>0</td>\n",
              "    </tr>\n",
              "    <tr>\n",
              "      <th>26082</th>\n",
              "      <td>67.0</td>\n",
              "      <td>0.0</td>\n",
              "      <td>1</td>\n",
              "      <td>130</td>\n",
              "      <td>236</td>\n",
              "      <td>0</td>\n",
              "      <td>0</td>\n",
              "      <td>174</td>\n",
              "      <td>0</td>\n",
              "      <td>0.0</td>\n",
              "      <td>1</td>\n",
              "      <td>1</td>\n",
              "      <td>2</td>\n",
              "      <td>0</td>\n",
              "    </tr>\n",
              "  </tbody>\n",
              "</table>\n",
              "<p>26083 rows × 14 columns</p>\n",
              "</div>\n",
              "      <button class=\"colab-df-convert\" onclick=\"convertToInteractive('df-ab4aa2e4-b282-474e-b362-acb23fb38bcc')\"\n",
              "              title=\"Convert this dataframe to an interactive table.\"\n",
              "              style=\"display:none;\">\n",
              "        \n",
              "  <svg xmlns=\"http://www.w3.org/2000/svg\" height=\"24px\"viewBox=\"0 0 24 24\"\n",
              "       width=\"24px\">\n",
              "    <path d=\"M0 0h24v24H0V0z\" fill=\"none\"/>\n",
              "    <path d=\"M18.56 5.44l.94 2.06.94-2.06 2.06-.94-2.06-.94-.94-2.06-.94 2.06-2.06.94zm-11 1L8.5 8.5l.94-2.06 2.06-.94-2.06-.94L8.5 2.5l-.94 2.06-2.06.94zm10 10l.94 2.06.94-2.06 2.06-.94-2.06-.94-.94-2.06-.94 2.06-2.06.94z\"/><path d=\"M17.41 7.96l-1.37-1.37c-.4-.4-.92-.59-1.43-.59-.52 0-1.04.2-1.43.59L10.3 9.45l-7.72 7.72c-.78.78-.78 2.05 0 2.83L4 21.41c.39.39.9.59 1.41.59.51 0 1.02-.2 1.41-.59l7.78-7.78 2.81-2.81c.8-.78.8-2.07 0-2.86zM5.41 20L4 18.59l7.72-7.72 1.47 1.35L5.41 20z\"/>\n",
              "  </svg>\n",
              "      </button>\n",
              "      \n",
              "  <style>\n",
              "    .colab-df-container {\n",
              "      display:flex;\n",
              "      flex-wrap:wrap;\n",
              "      gap: 12px;\n",
              "    }\n",
              "\n",
              "    .colab-df-convert {\n",
              "      background-color: #E8F0FE;\n",
              "      border: none;\n",
              "      border-radius: 50%;\n",
              "      cursor: pointer;\n",
              "      display: none;\n",
              "      fill: #1967D2;\n",
              "      height: 32px;\n",
              "      padding: 0 0 0 0;\n",
              "      width: 32px;\n",
              "    }\n",
              "\n",
              "    .colab-df-convert:hover {\n",
              "      background-color: #E2EBFA;\n",
              "      box-shadow: 0px 1px 2px rgba(60, 64, 67, 0.3), 0px 1px 3px 1px rgba(60, 64, 67, 0.15);\n",
              "      fill: #174EA6;\n",
              "    }\n",
              "\n",
              "    [theme=dark] .colab-df-convert {\n",
              "      background-color: #3B4455;\n",
              "      fill: #D2E3FC;\n",
              "    }\n",
              "\n",
              "    [theme=dark] .colab-df-convert:hover {\n",
              "      background-color: #434B5C;\n",
              "      box-shadow: 0px 1px 3px 1px rgba(0, 0, 0, 0.15);\n",
              "      filter: drop-shadow(0px 1px 2px rgba(0, 0, 0, 0.3));\n",
              "      fill: #FFFFFF;\n",
              "    }\n",
              "  </style>\n",
              "\n",
              "      <script>\n",
              "        const buttonEl =\n",
              "          document.querySelector('#df-ab4aa2e4-b282-474e-b362-acb23fb38bcc button.colab-df-convert');\n",
              "        buttonEl.style.display =\n",
              "          google.colab.kernel.accessAllowed ? 'block' : 'none';\n",
              "\n",
              "        async function convertToInteractive(key) {\n",
              "          const element = document.querySelector('#df-ab4aa2e4-b282-474e-b362-acb23fb38bcc');\n",
              "          const dataTable =\n",
              "            await google.colab.kernel.invokeFunction('convertToInteractive',\n",
              "                                                     [key], {});\n",
              "          if (!dataTable) return;\n",
              "\n",
              "          const docLinkHtml = 'Like what you see? Visit the ' +\n",
              "            '<a target=\"_blank\" href=https://colab.research.google.com/notebooks/data_table.ipynb>data table notebook</a>'\n",
              "            + ' to learn more about interactive tables.';\n",
              "          element.innerHTML = '';\n",
              "          dataTable['output_type'] = 'display_data';\n",
              "          await google.colab.output.renderOutput(dataTable, element);\n",
              "          const docLink = document.createElement('div');\n",
              "          docLink.innerHTML = docLinkHtml;\n",
              "          element.appendChild(docLink);\n",
              "        }\n",
              "      </script>\n",
              "    </div>\n",
              "  </div>\n",
              "  "
            ]
          },
          "metadata": {},
          "execution_count": 2
        }
      ],
      "source": [
        "import pandas as pd\n",
        "dados = pd.read_csv('hypertension_data.csv')\n",
        "dados"
      ]
    },
    {
      "cell_type": "code",
      "source": [
        "dados.info()"
      ],
      "metadata": {
        "colab": {
          "base_uri": "https://localhost:8080/"
        },
        "id": "aK4jyQXy3jRq",
        "outputId": "4d810331-c663-40b1-c445-4c51a1155f3e"
      },
      "execution_count": 3,
      "outputs": [
        {
          "output_type": "stream",
          "name": "stdout",
          "text": [
            "<class 'pandas.core.frame.DataFrame'>\n",
            "RangeIndex: 26083 entries, 0 to 26082\n",
            "Data columns (total 14 columns):\n",
            " #   Column    Non-Null Count  Dtype  \n",
            "---  ------    --------------  -----  \n",
            " 0   age       26083 non-null  float64\n",
            " 1   sex       26058 non-null  float64\n",
            " 2   cp        26083 non-null  int64  \n",
            " 3   trestbps  26083 non-null  int64  \n",
            " 4   chol      26083 non-null  int64  \n",
            " 5   fbs       26083 non-null  int64  \n",
            " 6   restecg   26083 non-null  int64  \n",
            " 7   thalach   26083 non-null  int64  \n",
            " 8   exang     26083 non-null  int64  \n",
            " 9   oldpeak   26083 non-null  float64\n",
            " 10  slope     26083 non-null  int64  \n",
            " 11  ca        26083 non-null  int64  \n",
            " 12  thal      26083 non-null  int64  \n",
            " 13  target    26083 non-null  int64  \n",
            "dtypes: float64(3), int64(11)\n",
            "memory usage: 2.8 MB\n"
          ]
        }
      ]
    },
    {
      "cell_type": "code",
      "source": [
        "dados.isnull().sum()"
      ],
      "metadata": {
        "colab": {
          "base_uri": "https://localhost:8080/"
        },
        "id": "qb19z3KE3r8w",
        "outputId": "bb6c0f1a-9a8c-4876-8e88-120447eb93dc"
      },
      "execution_count": 4,
      "outputs": [
        {
          "output_type": "execute_result",
          "data": {
            "text/plain": [
              "age          0\n",
              "sex         25\n",
              "cp           0\n",
              "trestbps     0\n",
              "chol         0\n",
              "fbs          0\n",
              "restecg      0\n",
              "thalach      0\n",
              "exang        0\n",
              "oldpeak      0\n",
              "slope        0\n",
              "ca           0\n",
              "thal         0\n",
              "target       0\n",
              "dtype: int64"
            ]
          },
          "metadata": {},
          "execution_count": 4
        }
      ]
    },
    {
      "cell_type": "markdown",
      "source": [
        "Há 25 registros nulos na entrada referente ao gênero, como não é uma quantidade relevante de dados vou eliminar esses registros"
      ],
      "metadata": {
        "id": "xxUXrg1h38qh"
      }
    },
    {
      "cell_type": "code",
      "source": [
        "dados = dados.dropna().reset_index(drop=True)"
      ],
      "metadata": {
        "id": "2645h21k37FT"
      },
      "execution_count": 5,
      "outputs": []
    },
    {
      "cell_type": "code",
      "source": [
        "dados.isnull().sum()"
      ],
      "metadata": {
        "colab": {
          "base_uri": "https://localhost:8080/"
        },
        "id": "hBr7kCGZ4OlU",
        "outputId": "4a576c72-5ca9-4e2f-9a5f-769cc1e7ff64"
      },
      "execution_count": 6,
      "outputs": [
        {
          "output_type": "execute_result",
          "data": {
            "text/plain": [
              "age         0\n",
              "sex         0\n",
              "cp          0\n",
              "trestbps    0\n",
              "chol        0\n",
              "fbs         0\n",
              "restecg     0\n",
              "thalach     0\n",
              "exang       0\n",
              "oldpeak     0\n",
              "slope       0\n",
              "ca          0\n",
              "thal        0\n",
              "target      0\n",
              "dtype: int64"
            ]
          },
          "metadata": {},
          "execution_count": 6
        }
      ]
    },
    {
      "cell_type": "markdown",
      "source": [
        "Renomear a colunas para facilitar o trabalho e a interpretação dos resultados"
      ],
      "metadata": {
        "id": "rrgYS0tk5G4e"
      }
    },
    {
      "cell_type": "code",
      "source": [
        "dados.rename(columns={\n",
        "    'age': 'idade',\n",
        "    'sex': 'gênero',\n",
        "    'cp' : 'tipo_dor',\n",
        "    'trestbps' : 'Pressão_arterial_em_repouso',\n",
        "    'chol' : 'colesterol_serico',\n",
        "    'fbs' : 'açucar > 120 mg/dl',\n",
        "    'restecg' : 'Resultados_ECG',\n",
        "    'thalach' : 'FC_máxima',\n",
        "    'exang' : 'angina_por_exercicio',\n",
        "    'oldpeak' : 'Depressão_do_segmento_ST_pelo_exercício',\n",
        "    'slope' : 'inclinação_do_ST_do_exercício_de_pico',\n",
        "    'ca' : 'N_vasos_principais',\n",
        "    'target' : 'hipertensao'\n",
        "}, inplace=True)"
      ],
      "metadata": {
        "id": "XylTh5Ni4b1P"
      },
      "execution_count": 7,
      "outputs": []
    },
    {
      "cell_type": "code",
      "source": [
        "dados"
      ],
      "metadata": {
        "colab": {
          "base_uri": "https://localhost:8080/",
          "height": 522
        },
        "id": "Hd0Tkmw68Hg2",
        "outputId": "5433a352-6c25-4199-942c-e568c9d41388"
      },
      "execution_count": 8,
      "outputs": [
        {
          "output_type": "execute_result",
          "data": {
            "text/plain": [
              "       idade  gênero  tipo_dor  Pressão_arterial_em_repouso  \\\n",
              "0       57.0     1.0         3                          145   \n",
              "1       64.0     0.0         2                          130   \n",
              "2       52.0     1.0         1                          130   \n",
              "3       56.0     0.0         1                          120   \n",
              "4       66.0     0.0         0                          120   \n",
              "...      ...     ...       ...                          ...   \n",
              "26053   72.0     0.0         0                          138   \n",
              "26054   60.0     1.0         0                          144   \n",
              "26055   68.0     1.0         0                          100   \n",
              "26056   67.0     1.0         1                          154   \n",
              "26057   67.0     0.0         1                          130   \n",
              "\n",
              "       colesterol_serico  açucar > 120 mg/dl  Resultados_ECG  FC_máxima  \\\n",
              "0                    233                   1               0        150   \n",
              "1                    250                   0               1        187   \n",
              "2                    204                   0               0        172   \n",
              "3                    236                   0               1        178   \n",
              "4                    354                   0               1        163   \n",
              "...                  ...                 ...             ...        ...   \n",
              "26053                294                   1               1        106   \n",
              "26054                200                   0               0        126   \n",
              "26055                234                   0               1        156   \n",
              "26056                232                   0               0        164   \n",
              "26057                236                   0               0        174   \n",
              "\n",
              "       angina_por_exercicio  Depressão_do_segmento_ST_pelo_exercício  \\\n",
              "0                         0                                      2.3   \n",
              "1                         0                                      3.5   \n",
              "2                         0                                      1.4   \n",
              "3                         0                                      0.8   \n",
              "4                         1                                      0.6   \n",
              "...                     ...                                      ...   \n",
              "26053                     0                                      1.9   \n",
              "26054                     1                                      0.9   \n",
              "26055                     0                                      0.1   \n",
              "26056                     0                                      0.0   \n",
              "26057                     0                                      0.0   \n",
              "\n",
              "       inclinação_do_ST_do_exercício_de_pico  N_vasos_principais  thal  \\\n",
              "0                                          0                   0     1   \n",
              "1                                          0                   0     2   \n",
              "2                                          2                   0     2   \n",
              "3                                          2                   0     2   \n",
              "4                                          2                   0     2   \n",
              "...                                      ...                 ...   ...   \n",
              "26053                                      1                   3     2   \n",
              "26054                                      1                   0     3   \n",
              "26055                                      2                   1     3   \n",
              "26056                                      2                   1     2   \n",
              "26057                                      1                   1     2   \n",
              "\n",
              "       hipertensao  \n",
              "0                1  \n",
              "1                1  \n",
              "2                1  \n",
              "3                1  \n",
              "4                1  \n",
              "...            ...  \n",
              "26053            0  \n",
              "26054            0  \n",
              "26055            0  \n",
              "26056            0  \n",
              "26057            0  \n",
              "\n",
              "[26058 rows x 14 columns]"
            ],
            "text/html": [
              "\n",
              "  <div id=\"df-e6d50758-82c3-4349-a405-f303ffbcf6b6\">\n",
              "    <div class=\"colab-df-container\">\n",
              "      <div>\n",
              "<style scoped>\n",
              "    .dataframe tbody tr th:only-of-type {\n",
              "        vertical-align: middle;\n",
              "    }\n",
              "\n",
              "    .dataframe tbody tr th {\n",
              "        vertical-align: top;\n",
              "    }\n",
              "\n",
              "    .dataframe thead th {\n",
              "        text-align: right;\n",
              "    }\n",
              "</style>\n",
              "<table border=\"1\" class=\"dataframe\">\n",
              "  <thead>\n",
              "    <tr style=\"text-align: right;\">\n",
              "      <th></th>\n",
              "      <th>idade</th>\n",
              "      <th>gênero</th>\n",
              "      <th>tipo_dor</th>\n",
              "      <th>Pressão_arterial_em_repouso</th>\n",
              "      <th>colesterol_serico</th>\n",
              "      <th>açucar &gt; 120 mg/dl</th>\n",
              "      <th>Resultados_ECG</th>\n",
              "      <th>FC_máxima</th>\n",
              "      <th>angina_por_exercicio</th>\n",
              "      <th>Depressão_do_segmento_ST_pelo_exercício</th>\n",
              "      <th>inclinação_do_ST_do_exercício_de_pico</th>\n",
              "      <th>N_vasos_principais</th>\n",
              "      <th>thal</th>\n",
              "      <th>hipertensao</th>\n",
              "    </tr>\n",
              "  </thead>\n",
              "  <tbody>\n",
              "    <tr>\n",
              "      <th>0</th>\n",
              "      <td>57.0</td>\n",
              "      <td>1.0</td>\n",
              "      <td>3</td>\n",
              "      <td>145</td>\n",
              "      <td>233</td>\n",
              "      <td>1</td>\n",
              "      <td>0</td>\n",
              "      <td>150</td>\n",
              "      <td>0</td>\n",
              "      <td>2.3</td>\n",
              "      <td>0</td>\n",
              "      <td>0</td>\n",
              "      <td>1</td>\n",
              "      <td>1</td>\n",
              "    </tr>\n",
              "    <tr>\n",
              "      <th>1</th>\n",
              "      <td>64.0</td>\n",
              "      <td>0.0</td>\n",
              "      <td>2</td>\n",
              "      <td>130</td>\n",
              "      <td>250</td>\n",
              "      <td>0</td>\n",
              "      <td>1</td>\n",
              "      <td>187</td>\n",
              "      <td>0</td>\n",
              "      <td>3.5</td>\n",
              "      <td>0</td>\n",
              "      <td>0</td>\n",
              "      <td>2</td>\n",
              "      <td>1</td>\n",
              "    </tr>\n",
              "    <tr>\n",
              "      <th>2</th>\n",
              "      <td>52.0</td>\n",
              "      <td>1.0</td>\n",
              "      <td>1</td>\n",
              "      <td>130</td>\n",
              "      <td>204</td>\n",
              "      <td>0</td>\n",
              "      <td>0</td>\n",
              "      <td>172</td>\n",
              "      <td>0</td>\n",
              "      <td>1.4</td>\n",
              "      <td>2</td>\n",
              "      <td>0</td>\n",
              "      <td>2</td>\n",
              "      <td>1</td>\n",
              "    </tr>\n",
              "    <tr>\n",
              "      <th>3</th>\n",
              "      <td>56.0</td>\n",
              "      <td>0.0</td>\n",
              "      <td>1</td>\n",
              "      <td>120</td>\n",
              "      <td>236</td>\n",
              "      <td>0</td>\n",
              "      <td>1</td>\n",
              "      <td>178</td>\n",
              "      <td>0</td>\n",
              "      <td>0.8</td>\n",
              "      <td>2</td>\n",
              "      <td>0</td>\n",
              "      <td>2</td>\n",
              "      <td>1</td>\n",
              "    </tr>\n",
              "    <tr>\n",
              "      <th>4</th>\n",
              "      <td>66.0</td>\n",
              "      <td>0.0</td>\n",
              "      <td>0</td>\n",
              "      <td>120</td>\n",
              "      <td>354</td>\n",
              "      <td>0</td>\n",
              "      <td>1</td>\n",
              "      <td>163</td>\n",
              "      <td>1</td>\n",
              "      <td>0.6</td>\n",
              "      <td>2</td>\n",
              "      <td>0</td>\n",
              "      <td>2</td>\n",
              "      <td>1</td>\n",
              "    </tr>\n",
              "    <tr>\n",
              "      <th>...</th>\n",
              "      <td>...</td>\n",
              "      <td>...</td>\n",
              "      <td>...</td>\n",
              "      <td>...</td>\n",
              "      <td>...</td>\n",
              "      <td>...</td>\n",
              "      <td>...</td>\n",
              "      <td>...</td>\n",
              "      <td>...</td>\n",
              "      <td>...</td>\n",
              "      <td>...</td>\n",
              "      <td>...</td>\n",
              "      <td>...</td>\n",
              "      <td>...</td>\n",
              "    </tr>\n",
              "    <tr>\n",
              "      <th>26053</th>\n",
              "      <td>72.0</td>\n",
              "      <td>0.0</td>\n",
              "      <td>0</td>\n",
              "      <td>138</td>\n",
              "      <td>294</td>\n",
              "      <td>1</td>\n",
              "      <td>1</td>\n",
              "      <td>106</td>\n",
              "      <td>0</td>\n",
              "      <td>1.9</td>\n",
              "      <td>1</td>\n",
              "      <td>3</td>\n",
              "      <td>2</td>\n",
              "      <td>0</td>\n",
              "    </tr>\n",
              "    <tr>\n",
              "      <th>26054</th>\n",
              "      <td>60.0</td>\n",
              "      <td>1.0</td>\n",
              "      <td>0</td>\n",
              "      <td>144</td>\n",
              "      <td>200</td>\n",
              "      <td>0</td>\n",
              "      <td>0</td>\n",
              "      <td>126</td>\n",
              "      <td>1</td>\n",
              "      <td>0.9</td>\n",
              "      <td>1</td>\n",
              "      <td>0</td>\n",
              "      <td>3</td>\n",
              "      <td>0</td>\n",
              "    </tr>\n",
              "    <tr>\n",
              "      <th>26055</th>\n",
              "      <td>68.0</td>\n",
              "      <td>1.0</td>\n",
              "      <td>0</td>\n",
              "      <td>100</td>\n",
              "      <td>234</td>\n",
              "      <td>0</td>\n",
              "      <td>1</td>\n",
              "      <td>156</td>\n",
              "      <td>0</td>\n",
              "      <td>0.1</td>\n",
              "      <td>2</td>\n",
              "      <td>1</td>\n",
              "      <td>3</td>\n",
              "      <td>0</td>\n",
              "    </tr>\n",
              "    <tr>\n",
              "      <th>26056</th>\n",
              "      <td>67.0</td>\n",
              "      <td>1.0</td>\n",
              "      <td>1</td>\n",
              "      <td>154</td>\n",
              "      <td>232</td>\n",
              "      <td>0</td>\n",
              "      <td>0</td>\n",
              "      <td>164</td>\n",
              "      <td>0</td>\n",
              "      <td>0.0</td>\n",
              "      <td>2</td>\n",
              "      <td>1</td>\n",
              "      <td>2</td>\n",
              "      <td>0</td>\n",
              "    </tr>\n",
              "    <tr>\n",
              "      <th>26057</th>\n",
              "      <td>67.0</td>\n",
              "      <td>0.0</td>\n",
              "      <td>1</td>\n",
              "      <td>130</td>\n",
              "      <td>236</td>\n",
              "      <td>0</td>\n",
              "      <td>0</td>\n",
              "      <td>174</td>\n",
              "      <td>0</td>\n",
              "      <td>0.0</td>\n",
              "      <td>1</td>\n",
              "      <td>1</td>\n",
              "      <td>2</td>\n",
              "      <td>0</td>\n",
              "    </tr>\n",
              "  </tbody>\n",
              "</table>\n",
              "<p>26058 rows × 14 columns</p>\n",
              "</div>\n",
              "      <button class=\"colab-df-convert\" onclick=\"convertToInteractive('df-e6d50758-82c3-4349-a405-f303ffbcf6b6')\"\n",
              "              title=\"Convert this dataframe to an interactive table.\"\n",
              "              style=\"display:none;\">\n",
              "        \n",
              "  <svg xmlns=\"http://www.w3.org/2000/svg\" height=\"24px\"viewBox=\"0 0 24 24\"\n",
              "       width=\"24px\">\n",
              "    <path d=\"M0 0h24v24H0V0z\" fill=\"none\"/>\n",
              "    <path d=\"M18.56 5.44l.94 2.06.94-2.06 2.06-.94-2.06-.94-.94-2.06-.94 2.06-2.06.94zm-11 1L8.5 8.5l.94-2.06 2.06-.94-2.06-.94L8.5 2.5l-.94 2.06-2.06.94zm10 10l.94 2.06.94-2.06 2.06-.94-2.06-.94-.94-2.06-.94 2.06-2.06.94z\"/><path d=\"M17.41 7.96l-1.37-1.37c-.4-.4-.92-.59-1.43-.59-.52 0-1.04.2-1.43.59L10.3 9.45l-7.72 7.72c-.78.78-.78 2.05 0 2.83L4 21.41c.39.39.9.59 1.41.59.51 0 1.02-.2 1.41-.59l7.78-7.78 2.81-2.81c.8-.78.8-2.07 0-2.86zM5.41 20L4 18.59l7.72-7.72 1.47 1.35L5.41 20z\"/>\n",
              "  </svg>\n",
              "      </button>\n",
              "      \n",
              "  <style>\n",
              "    .colab-df-container {\n",
              "      display:flex;\n",
              "      flex-wrap:wrap;\n",
              "      gap: 12px;\n",
              "    }\n",
              "\n",
              "    .colab-df-convert {\n",
              "      background-color: #E8F0FE;\n",
              "      border: none;\n",
              "      border-radius: 50%;\n",
              "      cursor: pointer;\n",
              "      display: none;\n",
              "      fill: #1967D2;\n",
              "      height: 32px;\n",
              "      padding: 0 0 0 0;\n",
              "      width: 32px;\n",
              "    }\n",
              "\n",
              "    .colab-df-convert:hover {\n",
              "      background-color: #E2EBFA;\n",
              "      box-shadow: 0px 1px 2px rgba(60, 64, 67, 0.3), 0px 1px 3px 1px rgba(60, 64, 67, 0.15);\n",
              "      fill: #174EA6;\n",
              "    }\n",
              "\n",
              "    [theme=dark] .colab-df-convert {\n",
              "      background-color: #3B4455;\n",
              "      fill: #D2E3FC;\n",
              "    }\n",
              "\n",
              "    [theme=dark] .colab-df-convert:hover {\n",
              "      background-color: #434B5C;\n",
              "      box-shadow: 0px 1px 3px 1px rgba(0, 0, 0, 0.15);\n",
              "      filter: drop-shadow(0px 1px 2px rgba(0, 0, 0, 0.3));\n",
              "      fill: #FFFFFF;\n",
              "    }\n",
              "  </style>\n",
              "\n",
              "      <script>\n",
              "        const buttonEl =\n",
              "          document.querySelector('#df-e6d50758-82c3-4349-a405-f303ffbcf6b6 button.colab-df-convert');\n",
              "        buttonEl.style.display =\n",
              "          google.colab.kernel.accessAllowed ? 'block' : 'none';\n",
              "\n",
              "        async function convertToInteractive(key) {\n",
              "          const element = document.querySelector('#df-e6d50758-82c3-4349-a405-f303ffbcf6b6');\n",
              "          const dataTable =\n",
              "            await google.colab.kernel.invokeFunction('convertToInteractive',\n",
              "                                                     [key], {});\n",
              "          if (!dataTable) return;\n",
              "\n",
              "          const docLinkHtml = 'Like what you see? Visit the ' +\n",
              "            '<a target=\"_blank\" href=https://colab.research.google.com/notebooks/data_table.ipynb>data table notebook</a>'\n",
              "            + ' to learn more about interactive tables.';\n",
              "          element.innerHTML = '';\n",
              "          dataTable['output_type'] = 'display_data';\n",
              "          await google.colab.output.renderOutput(dataTable, element);\n",
              "          const docLink = document.createElement('div');\n",
              "          docLink.innerHTML = docLinkHtml;\n",
              "          element.appendChild(docLink);\n",
              "        }\n",
              "      </script>\n",
              "    </div>\n",
              "  </div>\n",
              "  "
            ]
          },
          "metadata": {},
          "execution_count": 8
        }
      ]
    },
    {
      "cell_type": "code",
      "source": [
        "dados['hipertensao'] = dados['hipertensao'].astype('float')"
      ],
      "metadata": {
        "id": "mBbsp7If_4g9"
      },
      "execution_count": 9,
      "outputs": []
    },
    {
      "cell_type": "code",
      "source": [
        "dados.dtypes"
      ],
      "metadata": {
        "colab": {
          "base_uri": "https://localhost:8080/"
        },
        "id": "vzSd7G1eAFWp",
        "outputId": "eba5aecf-8d13-4b2b-8154-5fec43e56659"
      },
      "execution_count": 10,
      "outputs": [
        {
          "output_type": "execute_result",
          "data": {
            "text/plain": [
              "idade                                      float64\n",
              "gênero                                     float64\n",
              "tipo_dor                                     int64\n",
              "Pressão_arterial_em_repouso                  int64\n",
              "colesterol_serico                            int64\n",
              "açucar > 120 mg/dl                           int64\n",
              "Resultados_ECG                               int64\n",
              "FC_máxima                                    int64\n",
              "angina_por_exercicio                         int64\n",
              "Depressão_do_segmento_ST_pelo_exercício    float64\n",
              "inclinação_do_ST_do_exercício_de_pico        int64\n",
              "N_vasos_principais                           int64\n",
              "thal                                         int64\n",
              "hipertensao                                float64\n",
              "dtype: object"
            ]
          },
          "metadata": {},
          "execution_count": 10
        }
      ]
    },
    {
      "cell_type": "markdown",
      "source": [
        "Verificando o % de individuos com pressão alta no dataset"
      ],
      "metadata": {
        "id": "hFeWNaQxCUiP"
      }
    },
    {
      "cell_type": "code",
      "source": [
        "pressao_alta = []\n",
        "for i in range(len(dados)):\n",
        "  if dados['hipertensao'][i] == 1:\n",
        "      pressao_alta.append(dados['hipertensao'][i])\n",
        "len(pressao_alta)"
      ],
      "metadata": {
        "colab": {
          "base_uri": "https://localhost:8080/"
        },
        "id": "QKR0wULz8IZp",
        "outputId": "d19ae1f7-729b-476c-f7e4-379dcc84d4b2"
      },
      "execution_count": 12,
      "outputs": [
        {
          "output_type": "execute_result",
          "data": {
            "text/plain": [
              "14274"
            ]
          },
          "metadata": {},
          "execution_count": 12
        }
      ]
    },
    {
      "cell_type": "code",
      "source": [
        "perc = len(pressao_alta) / len(dados['idade']) \n",
        "perc"
      ],
      "metadata": {
        "id": "BvZn2Wcb89Tv",
        "colab": {
          "base_uri": "https://localhost:8080/"
        },
        "outputId": "31ffa038-a2b9-4843-ecb1-678aa89df25e"
      },
      "execution_count": 14,
      "outputs": [
        {
          "output_type": "execute_result",
          "data": {
            "text/plain": [
              "0.5477780336173153"
            ]
          },
          "metadata": {},
          "execution_count": 14
        }
      ]
    },
    {
      "cell_type": "markdown",
      "source": [
        "Aproximadamente 54,7% dos indivíduos analisados apresentavam hipertensão"
      ],
      "metadata": {
        "id": "ij3QslQ5Z0Ve"
      }
    },
    {
      "cell_type": "markdown",
      "source": [
        "#Estudo de Variáveis"
      ],
      "metadata": {
        "id": "QE2ocxjzaC2N"
      }
    },
    {
      "cell_type": "markdown",
      "source": [
        "**Idade**"
      ],
      "metadata": {
        "id": "PvkVwpjWaHPg"
      }
    },
    {
      "cell_type": "code",
      "source": [
        "import matplotlib.pyplot as plt\n",
        "plt.hist(dados['idade'])"
      ],
      "metadata": {
        "colab": {
          "base_uri": "https://localhost:8080/",
          "height": 334
        },
        "id": "BNoU9oBxZqhO",
        "outputId": "3e8e2be3-6713-4054-e989-19e719d4d3e0"
      },
      "execution_count": 17,
      "outputs": [
        {
          "output_type": "execute_result",
          "data": {
            "text/plain": [
              "(array([  60.,  748., 2660., 3803., 5032., 5095., 4176., 3352., 1047.,\n",
              "          85.]),\n",
              " array([11. , 19.7, 28.4, 37.1, 45.8, 54.5, 63.2, 71.9, 80.6, 89.3, 98. ]),\n",
              " <a list of 10 Patch objects>)"
            ]
          },
          "metadata": {},
          "execution_count": 17
        },
        {
          "output_type": "display_data",
          "data": {
            "text/plain": [
              "<Figure size 432x288 with 1 Axes>"
            ],
            "image/png": "[encoded data removed]"
          },
          "metadata": {
            "needs_background": "light"
          }
        }
      ]
    },
    {
      "cell_type": "code",
      "source": [
        "dados['idade'].describe()"
      ],
      "metadata": {
        "colab": {
          "base_uri": "https://localhost:8080/"
        },
        "id": "hmCenWPbafhZ",
        "outputId": "f46f9ee5-0680-49ba-e4fc-6118f97695ad"
      },
      "execution_count": 19,
      "outputs": [
        {
          "output_type": "execute_result",
          "data": {
            "text/plain": [
              "count    26058.000000\n",
              "mean        55.655730\n",
              "std         15.190407\n",
              "min         11.000000\n",
              "25%         44.000000\n",
              "50%         56.000000\n",
              "75%         67.000000\n",
              "max         98.000000\n",
              "Name: idade, dtype: float64"
            ]
          },
          "metadata": {},
          "execution_count": 19
        }
      ]
    },
    {
      "cell_type": "markdown",
      "source": [
        "Pela analise do gráfico vemos que a distribuição das idades aparenta ser uma distribuição normal e na tabela infere-se que:\n",
        "\n",
        "A idade mínima dessa análise é 11 anos\n",
        "\n",
        "A média é 55 anos\n",
        "\n",
        "A idade máxima é 98 anos"
      ],
      "metadata": {
        "id": "NJyZve7xb0KV"
      }
    },
    {
      "cell_type": "markdown",
      "source": [
        "**Frequência cardiaca Máxima** "
      ],
      "metadata": {
        "id": "AEPAX2gF0IwA"
      }
    },
    {
      "cell_type": "code",
      "source": [
        "plt.hist(dados['FC_máxima'])"
      ],
      "metadata": {
        "colab": {
          "base_uri": "https://localhost:8080/",
          "height": 356
        },
        "id": "Jpn6oINFmtMh",
        "outputId": "f1b99f02-8c1f-41ee-fb75-c96c546fbf8e"
      },
      "execution_count": 33,
      "outputs": [
        {
          "output_type": "execute_result",
          "data": {
            "text/plain": [
              "(array([  82.,  514.,  952., 2240., 3000., 4546., 6692., 5334., 2238.,\n",
              "         460.]),\n",
              " array([ 71. ,  84.1,  97.2, 110.3, 123.4, 136.5, 149.6, 162.7, 175.8,\n",
              "        188.9, 202. ]),\n",
              " <a list of 10 Patch objects>)"
            ]
          },
          "metadata": {},
          "execution_count": 33
        },
        {
          "output_type": "display_data",
          "data": {
            "text/plain": [
              "<Figure size 432x288 with 1 Axes>"
            ],
            "image/png": "[encoded data removed]"
          },
          "metadata": {
            "needs_background": "light"
          }
        }
      ]
    },
    {
      "cell_type": "code",
      "source": [
        "dados['FC_máxima'].describe()"
      ],
      "metadata": {
        "colab": {
          "base_uri": "https://localhost:8080/"
        },
        "id": "_-Z7QnMe0HWj",
        "outputId": "fef0118f-201a-4460-92d2-32bd72365112"
      },
      "execution_count": 35,
      "outputs": [
        {
          "output_type": "execute_result",
          "data": {
            "text/plain": [
              "count    26058.000000\n",
              "mean       149.643181\n",
              "std         22.865871\n",
              "min         71.000000\n",
              "25%        133.000000\n",
              "50%        153.000000\n",
              "75%        166.000000\n",
              "max        202.000000\n",
              "Name: FC_máxima, dtype: float64"
            ]
          },
          "metadata": {},
          "execution_count": 35
        }
      ]
    },
    {
      "cell_type": "markdown",
      "source": [
        "Considerando recomendações médicas a frequência cardiaca máxima não deve ultrapassar 210 - idade, temos uma médi FC_máxima de aproximadamente 150 e a média das idades é 55 anos, ou seja possivelmente há na base de dados muitas pessoas que fogem dessa recomendação"
      ],
      "metadata": {
        "id": "hz5lmaDW0kLa"
      }
    },
    {
      "cell_type": "markdown",
      "source": [
        "**Testando Frequência cardíaca máxima**"
      ],
      "metadata": {
        "id": "tkmuYEfr1QjJ"
      }
    },
    {
      "cell_type": "code",
      "source": [
        "limite = []\n",
        "alta = []\n",
        "for i in range(len(dados)):\n",
        "  limite.append(210 - dados.idade[i])\n",
        "  if limite[i] < dados.FC_máxima[i]:\n",
        "    alta.append(dados.FC_máxima[i])\n",
        "len(alta)"
      ],
      "metadata": {
        "colab": {
          "base_uri": "https://localhost:8080/"
        },
        "id": "3p_cUhob1Y5_",
        "outputId": "b454c1a3-d4ce-44b4-ead0-438180950134"
      },
      "execution_count": 43,
      "outputs": [
        {
          "output_type": "execute_result",
          "data": {
            "text/plain": [
              "11723"
            ]
          },
          "metadata": {},
          "execution_count": 43
        }
      ]
    },
    {
      "cell_type": "code",
      "source": [
        "perc = 11723/26058\n",
        "perc"
      ],
      "metadata": {
        "colab": {
          "base_uri": "https://localhost:8080/"
        },
        "id": "qFRM-WhO4WBo",
        "outputId": "687f1383-81b2-4687-aedc-f0cceba57c27"
      },
      "execution_count": 44,
      "outputs": [
        {
          "output_type": "execute_result",
          "data": {
            "text/plain": [
              "0.44988103461508944"
            ]
          },
          "metadata": {},
          "execution_count": 44
        }
      ]
    },
    {
      "cell_type": "markdown",
      "source": [
        "Com base nas idades e frequências cardíacas existem 11723 pessoas que estavam com os batimesnto acima do limite para sua idade, ou seja, 44.98% dos individuos"
      ],
      "metadata": {
        "id": "47-mqME74FJY"
      }
    },
    {
      "cell_type": "markdown",
      "source": [
        "**Açucar no Sangue**"
      ],
      "metadata": {
        "id": "u6RV2qHYzvg1"
      }
    },
    {
      "cell_type": "code",
      "source": [
        "plt.hist(dados['açucar > 120 mg/dl'])"
      ],
      "metadata": {
        "colab": {
          "base_uri": "https://localhost:8080/",
          "height": 334
        },
        "id": "bGrj7_ErczeW",
        "outputId": "6d3dd719-957a-4fe7-b7ea-ba5fa9edd38f"
      },
      "execution_count": 32,
      "outputs": [
        {
          "output_type": "execute_result",
          "data": {
            "text/plain": [
              "(array([22152.,     0.,     0.,     0.,     0.,     0.,     0.,     0.,\n",
              "            0.,  3906.]),\n",
              " array([0. , 0.1, 0.2, 0.3, 0.4, 0.5, 0.6, 0.7, 0.8, 0.9, 1. ]),\n",
              " <a list of 10 Patch objects>)"
            ]
          },
          "metadata": {},
          "execution_count": 32
        },
        {
          "output_type": "display_data",
          "data": {
            "text/plain": [
              "<Figure size 432x288 with 1 Axes>"
            ],
            "image/png": "[encoded data removed]"
          },
          "metadata": {
            "needs_background": "light"
          }
        }
      ]
    },
    {
      "cell_type": "markdown",
      "source": [
        "Com esse gráfico vê-se que não há grande prevalencia de açucar alto no sangue entre os inidivíduos pesquisados"
      ],
      "metadata": {
        "id": "BbtvV948zdN7"
      }
    },
    {
      "cell_type": "code",
      "source": [],
      "metadata": {
        "id": "uRXa8zcR0Tcx"
      },
      "execution_count": null,
      "outputs": []
    }
  ]
}